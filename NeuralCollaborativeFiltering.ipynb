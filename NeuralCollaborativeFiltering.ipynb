{
  "nbformat": 4,
  "nbformat_minor": 0,
  "metadata": {
    "colab": {
      "provenance": [],
      "machine_shape": "hm",
      "gpuType": "A100"
    },
    "kernelspec": {
      "name": "python3",
      "display_name": "Python 3"
    },
    "language_info": {
      "name": "python"
    },
    "gpuClass": "standard",
    "accelerator": "GPU"
  },
  "cells": [
    {
      "cell_type": "code",
      "execution_count": 1,
      "metadata": {
        "colab": {
          "base_uri": "https://localhost:8080/"
        },
        "id": "qeYej0usw7Ar",
        "outputId": "b7e188d7-04cf-4358-c010-23924e8743b5"
      },
      "outputs": [
        {
          "output_type": "stream",
          "name": "stdout",
          "text": [
            "Mounted at /content/drive\n"
          ]
        }
      ],
      "source": [
        "from google.colab import drive\n",
        "drive.mount('/content/drive')"
      ]
    },
    {
      "cell_type": "code",
      "source": [
        "import pandas as pd\n",
        "import numpy as np\n",
        "import torch\n",
        "from torch.utils.data import Dataset, DataLoader\n",
        "import torch.nn as nn\n",
        "from torchvision import datasets\n",
        "from torchvision.transforms import ToTensor\n",
        "import matplotlib.pyplot as plt\n",
        "from sklearn import model_selection, metrics, preprocessing"
      ],
      "metadata": {
        "id": "fAEt0TtvQfmy"
      },
      "execution_count": 4,
      "outputs": []
    },
    {
      "cell_type": "code",
      "source": [
        "device = torch.device('cuda' if torch.cuda.is_available() else 'cpu')"
      ],
      "metadata": {
        "id": "BWo4xsU0VsB_"
      },
      "execution_count": 5,
      "outputs": []
    },
    {
      "cell_type": "code",
      "source": [
        "device"
      ],
      "metadata": {
        "colab": {
          "base_uri": "https://localhost:8080/"
        },
        "id": "QlkgkWuEcAGW",
        "outputId": "ec394101-4367-44e1-8aeb-a0d90b199635"
      },
      "execution_count": null,
      "outputs": [
        {
          "output_type": "execute_result",
          "data": {
            "text/plain": [
              "device(type='cuda')"
            ]
          },
          "metadata": {},
          "execution_count": 4
        }
      ]
    },
    {
      "cell_type": "code",
      "source": [
        "# !gunzip /content/drive/MyDrive/CSE272/Movies_and_TV.json.gz"
      ],
      "metadata": {
        "id": "Tn2rf-ZzV47l"
      },
      "execution_count": null,
      "outputs": []
    },
    {
      "cell_type": "code",
      "source": [
        "import pandas as pd\n",
        "import json\n",
        "\n",
        "data = []\n",
        "with open('/content/drive/MyDrive/CSE272/Movies_and_TV.json', 'r') as file:\n",
        "    for line in file:\n",
        "        data.append(json.loads(line))\n",
        "\n",
        "df = pd.DataFrame(data)"
      ],
      "metadata": {
        "id": "E1ok_5tnWg3J"
      },
      "execution_count": null,
      "outputs": []
    },
    {
      "cell_type": "code",
      "source": [
        "df.columns"
      ],
      "metadata": {
        "colab": {
          "base_uri": "https://localhost:8080/"
        },
        "id": "IWn2gXO_XRsv",
        "outputId": "8f043aa1-551b-487f-8dc5-24cefe067937"
      },
      "execution_count": null,
      "outputs": [
        {
          "output_type": "execute_result",
          "data": {
            "text/plain": [
              "Index(['overall', 'verified', 'reviewTime', 'reviewerID', 'asin', 'style',\n",
              "       'reviewerName', 'reviewText', 'summary', 'unixReviewTime', 'vote',\n",
              "       'image'],\n",
              "      dtype='object')"
            ]
          },
          "metadata": {},
          "execution_count": 7
        }
      ]
    },
    {
      "cell_type": "code",
      "source": [
        "df.reviewerID.nunique()"
      ],
      "metadata": {
        "colab": {
          "base_uri": "https://localhost:8080/"
        },
        "id": "ZCFDL0okXeBL",
        "outputId": "144b2807-59db-474c-ac55-e176e3c2583e"
      },
      "execution_count": null,
      "outputs": [
        {
          "output_type": "execute_result",
          "data": {
            "text/plain": [
              "3826085"
            ]
          },
          "metadata": {},
          "execution_count": 8
        }
      ]
    },
    {
      "cell_type": "code",
      "source": [
        "df.reviewerID.value_counts()"
      ],
      "metadata": {
        "colab": {
          "base_uri": "https://localhost:8080/"
        },
        "id": "HFcRnennLJUz",
        "outputId": "9381f43f-f4c4-45fa-9e08-486a1fb0da78"
      },
      "execution_count": null,
      "outputs": [
        {
          "output_type": "execute_result",
          "data": {
            "text/plain": [
              "3691354    4254\n",
              "462849     2292\n",
              "2085233    2175\n",
              "3143039    2136\n",
              "3726617    2046\n",
              "           ... \n",
              "318334        1\n",
              "1374689       1\n",
              "2131582       1\n",
              "871353        1\n",
              "3377852       1\n",
              "Name: reviewerID, Length: 3826085, dtype: int64"
            ]
          },
          "metadata": {},
          "execution_count": 41
        }
      ]
    },
    {
      "cell_type": "code",
      "source": [
        "df.asin.nunique()"
      ],
      "metadata": {
        "colab": {
          "base_uri": "https://localhost:8080/"
        },
        "id": "AEjNKY8-XdrM",
        "outputId": "db043143-293e-4ab4-e90c-1cc31351b0e9"
      },
      "execution_count": null,
      "outputs": [
        {
          "output_type": "execute_result",
          "data": {
            "text/plain": [
              "182032"
            ]
          },
          "metadata": {},
          "execution_count": 9
        }
      ]
    },
    {
      "cell_type": "code",
      "source": [
        "df.overall.value_counts()"
      ],
      "metadata": {
        "colab": {
          "base_uri": "https://localhost:8080/"
        },
        "id": "3FNLXQrLXZGD",
        "outputId": "b5fea532-8611-492f-f08a-e659c52f7caa"
      },
      "execution_count": null,
      "outputs": [
        {
          "output_type": "execute_result",
          "data": {
            "text/plain": [
              "5.0    5491586\n",
              "4.0    1498047\n",
              "3.0     735907\n",
              "1.0     633153\n",
              "2.0     406875\n",
              "Name: overall, dtype: int64"
            ]
          },
          "metadata": {},
          "execution_count": 10
        }
      ]
    },
    {
      "cell_type": "code",
      "source": [
        "# load data frames to save time\n",
        "df_train = pd.read_csv('/content/drive/MyDrive/CSE272/train_df.csv')\n",
        "df_valid = pd.read_csv('/content/drive/MyDrive/CSE272/test_df.csv')"
      ],
      "metadata": {
        "id": "_h32dAj8LvAi"
      },
      "execution_count": 6,
      "outputs": []
    },
    {
      "cell_type": "code",
      "source": [
        "df = pd.concat([df_train, df_valid])"
      ],
      "metadata": {
        "id": "Hf25ynY5LwvM"
      },
      "execution_count": 7,
      "outputs": []
    },
    {
      "cell_type": "code",
      "source": [
        "import os\n",
        "import pandas as pd\n",
        "from torchvision.io import read_image\n",
        "\n",
        "class MoviesTVDataset(Dataset):\n",
        "    def __init__(self, users, products, ratings):\n",
        "        self.users = users\n",
        "        self.products = products\n",
        "        self.ratings = ratings\n",
        "\n",
        "    def __len__(self):\n",
        "        return len(self.users)\n",
        "\n",
        "    def __getitem__(self, idx):\n",
        "        users = self.users[idx]\n",
        "        products = self.products[idx]\n",
        "        ratings = self.ratings[idx]\n",
        "\n",
        "        return {\n",
        "            \"users\": torch.tensor(users, dtype=torch.long),\n",
        "            \"products\": torch.tensor(products, dtype=torch.long),\n",
        "            \"ratings\": torch.tensor(ratings, dtype=torch.long),\n",
        "        }"
      ],
      "metadata": {
        "id": "-cFu2UyZ1P7n"
      },
      "execution_count": 8,
      "outputs": []
    },
    {
      "cell_type": "code",
      "source": [
        "class NCFModel(nn.Module):\n",
        "    def __init__(self, n_users, n_products):\n",
        "        super().__init__()\n",
        "\n",
        "        self.user_embed = nn.Embedding(n_users, 32)\n",
        "        self.product_embed = nn.Embedding(n_products, 32)\n",
        "        self.out = nn.Linear(64, 1)\n",
        "\n",
        "    def forward(self, users, products, ratings=None):\n",
        "        user_embeds = self.user_embed(users)\n",
        "        product_embeds = self.product_embed(products)\n",
        "        output = torch.cat([user_embeds, product_embeds], dim=1)\n",
        "\n",
        "        output = self.out(output)\n",
        "        return output"
      ],
      "metadata": {
        "id": "L_XAIYKAYhQy"
      },
      "execution_count": 10,
      "outputs": []
    },
    {
      "cell_type": "code",
      "source": [
        "train_dataset = MoviesTVDataset(\n",
        "    users=df_train.reviewerID.values,\n",
        "    products=df_train.asin.values,\n",
        "    ratings=df_train.overall.values\n",
        ")\n",
        "\n",
        "valid_dataset = MoviesTVDataset(\n",
        "    users=df_valid.reviewerID.values,\n",
        "    products=df_valid.asin.values,\n",
        "    ratings=df_valid.overall.values\n",
        ")\n"
      ],
      "metadata": {
        "id": "LEcbCmLXZXn_"
      },
      "execution_count": 11,
      "outputs": []
    },
    {
      "cell_type": "code",
      "source": [
        "train_loader = DataLoader(dataset=train_dataset,\n",
        "                          batch_size=2048,\n",
        "                          shuffle=True,\n",
        "                          num_workers=2) \n",
        "\n",
        "validation_loader = DataLoader(dataset=valid_dataset,\n",
        "                          batch_size=2048,\n",
        "                          shuffle=True,\n",
        "                          num_workers=2) \n",
        "\n",
        "dataiter = iter(train_loader)\n",
        "dataloader_data = next(dataiter)\n",
        "print(dataloader_data)"
      ],
      "metadata": {
        "colab": {
          "base_uri": "https://localhost:8080/"
        },
        "id": "iNrZswi0aCJR",
        "outputId": "2507f98c-52ec-4eaa-8ce0-7319d0ecf7f5"
      },
      "execution_count": 12,
      "outputs": [
        {
          "output_type": "stream",
          "name": "stdout",
          "text": [
            "{'users': tensor([ 50948,   6864,  76001,  ..., 174339, 309367,   1190]), 'products': tensor([106867,  71993,  37519,  ...,  19105,  15680, 132042]), 'ratings': tensor([5, 3, 5,  ..., 4, 4, 3])}\n"
          ]
        }
      ]
    },
    {
      "cell_type": "code",
      "source": [
        "model = NCFModel(\n",
        "    n_users=df.reviewerID.nunique(),\n",
        "    n_products=df.asin.nunique(),\n",
        ").to(device)\n",
        "\n",
        "loss_func = nn.MSELoss()"
      ],
      "metadata": {
        "id": "k-67EIORajXP"
      },
      "execution_count": 14,
      "outputs": []
    },
    {
      "cell_type": "code",
      "source": [
        "def train_epocs(model, epochs=1, lr=0.01, wd=0.0):\n",
        "    epochs = 1\n",
        "    total_loss = 0\n",
        "    plot_steps, print_steps = 5000, 5000\n",
        "    step_cnt = 0\n",
        "    all_losses_list = [] \n",
        "    optimizer = torch.optim.Adam(model.parameters(), lr=lr, weight_decay=wd)\n",
        "    model.train()\n",
        "    for epoch_i in range(epochs):\n",
        "         for i, train_data in enumerate(train_loader):\n",
        "            output = model(train_data[\"users\"].to(device), \n",
        "                        train_data[\"products\"].to(device)\n",
        "                        ) \n",
        "            \n",
        "            rating = train_data[\"ratings\"].view(len(output), -1).to(torch.float32)\n",
        "\n",
        "            loss = loss_func(output, rating.to(device))\n",
        "            total_loss = total_loss + loss.sum().item()\n",
        "            optimizer.zero_grad()\n",
        "            loss.backward()\n",
        "            optimizer.step()\n",
        "\n",
        "            step_cnt = step_cnt + len(train_data[\"users\"])\n",
        "            \n",
        "\n",
        "            if(step_cnt % plot_steps == 0):\n",
        "                print(i)\n",
        "                avg_loss = total_loss/(len(train_data[\"users\"]) * plot_steps)\n",
        "                print(f\"epoch {epoch_i} loss at step: {step_cnt} is {avg_loss}\")\n",
        "                all_losses_list.append(avg_loss)\n",
        "                total_loss = 0 "
      ],
      "metadata": {
        "id": "paAEHFwHhzLy"
      },
      "execution_count": 15,
      "outputs": []
    },
    {
      "cell_type": "code",
      "source": [
        "train_epocs(model)"
      ],
      "metadata": {
        "colab": {
          "base_uri": "https://localhost:8080/"
        },
        "id": "4xMMgKCk0Pl4",
        "outputId": "a4c43824-d4e1-4ec6-c2ab-a58f52620c86"
      },
      "execution_count": 16,
      "outputs": [
        {
          "output_type": "stream",
          "name": "stdout",
          "text": [
            "624\n",
            "epoch 0 loss at step: 1280000 is 0.00022704817415215075\n",
            "1249\n",
            "epoch 0 loss at step: 2560000 is 7.207709407666698e-05\n"
          ]
        }
      ]
    },
    {
      "cell_type": "code",
      "source": [
        "from sklearn.metrics import mean_squared_error\n",
        "\n",
        "model_output_list = []\n",
        "target_rating_list = []\n",
        "\n",
        "model.eval()\n",
        "\n",
        "with torch.no_grad():\n",
        "    for i, batched_data in enumerate(validation_loader): \n",
        "        model_output = model(batched_data['users'].to(device), \n",
        "                       batched_data[\"products\"].to(device))\n",
        "        \n",
        "        model_output_list.append(model_output.sum().item() / len(batched_data['users']) )\n",
        "\n",
        "        target_rating = batched_data[\"ratings\"]\n",
        "        \n",
        "        target_rating_list.append(target_rating.sum().item() / len(batched_data['users']))\n",
        "\n",
        "        # print(f\"model_output: {model_output}, target_rating: {target_rating}\")\n",
        "\n",
        "\n",
        "# squared If True returns MSE value, if False returns RMSE value.\n",
        "rms = mean_squared_error(target_rating_list, model_output_list, squared=False)\n",
        "print(f\"rms: {rms}\")"
      ],
      "metadata": {
        "colab": {
          "base_uri": "https://localhost:8080/"
        },
        "id": "ULxzg5cf0gdY",
        "outputId": "aa5cf455-54cf-4dee-965a-299ec97c5c12"
      },
      "execution_count": 18,
      "outputs": [
        {
          "output_type": "stream",
          "name": "stdout",
          "text": [
            "rms: 0.0371497814427341\n"
          ]
        }
      ]
    },
    {
      "cell_type": "code",
      "source": [
        "from sklearn.metrics import mean_absolute_error\n",
        "\n",
        "mae = mean_absolute_error(target_rating_list, model_output_list)\n",
        "print(f\"mae: {mae}\")"
      ],
      "metadata": {
        "colab": {
          "base_uri": "https://localhost:8080/"
        },
        "id": "NZzoPTiM1fON",
        "outputId": "67f772c8-ef8c-4a92-8c01-aeffcb7eaeb8"
      },
      "execution_count": 19,
      "outputs": [
        {
          "output_type": "stream",
          "name": "stdout",
          "text": [
            "mae: 0.031537923915674525\n"
          ]
        }
      ]
    },
    {
      "cell_type": "code",
      "source": [],
      "metadata": {
        "id": "rPtL4Hv-6K_W"
      },
      "execution_count": null,
      "outputs": []
    }
  ]
}